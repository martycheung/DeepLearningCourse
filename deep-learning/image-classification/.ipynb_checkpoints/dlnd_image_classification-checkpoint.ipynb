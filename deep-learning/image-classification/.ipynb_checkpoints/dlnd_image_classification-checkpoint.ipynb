{
 "cells": [
  {
   "cell_type": "markdown",
   "metadata": {
    "collapsed": true,
    "deletable": true,
    "editable": true
   },
   "source": [
    "# Image Classification\n",
    "In this project, you'll classify images from the [CIFAR-10 dataset](https://www.cs.toronto.edu/~kriz/cifar.html).  The dataset consists of airplanes, dogs, cats, and other objects. You'll preprocess the images, then train a convolutional neural network on all the samples. The images need to be normalized and the labels need to be one-hot encoded.  You'll get to apply what you learned and build a convolutional, max pooling, dropout, and fully connected layers.  At the end, you'll get to see your neural network's predictions on the sample images.\n",
    "## Get the Data\n",
    "Run the following cell to download the [CIFAR-10 dataset for python](https://www.cs.toronto.edu/~kriz/cifar-10-python.tar.gz)."
   ]
  },
  {
   "cell_type": "code",
   "execution_count": 2,
   "metadata": {
    "collapsed": false,
    "deletable": true,
    "editable": true
   },
   "outputs": [
    {
     "name": "stdout",
     "output_type": "stream",
     "text": [
      "All files found!\n"
     ]
    }
   ],
   "source": [
    "\"\"\"\n",
    "DON'T MODIFY ANYTHING IN THIS CELL THAT IS BELOW THIS LINE\n",
    "\"\"\"\n",
    "from urllib.request import urlretrieve\n",
    "from os.path import isfile, isdir\n",
    "from tqdm import tqdm\n",
    "import problem_unittests as tests\n",
    "import tarfile\n",
    "\n",
    "cifar10_dataset_folder_path = 'cifar-10-batches-py'\n",
    "\n",
    "class DLProgress(tqdm):\n",
    "    last_block = 0\n",
    "\n",
    "    def hook(self, block_num=1, block_size=1, total_size=None):\n",
    "        self.total = total_size\n",
    "        self.update((block_num - self.last_block) * block_size)\n",
    "        self.last_block = block_num\n",
    "\n",
    "if not isfile('cifar-10-python.tar.gz'):\n",
    "    with DLProgress(unit='B', unit_scale=True, miniters=1, desc='CIFAR-10 Dataset') as pbar:\n",
    "        urlretrieve(\n",
    "            'https://www.cs.toronto.edu/~kriz/cifar-10-python.tar.gz',\n",
    "            'cifar-10-python.tar.gz',\n",
    "            pbar.hook)\n",
    "\n",
    "if not isdir(cifar10_dataset_folder_path):\n",
    "    with tarfile.open('cifar-10-python.tar.gz') as tar:\n",
    "        tar.extractall()\n",
    "        tar.close()\n",
    "\n",
    "\n",
    "tests.test_folder_path(cifar10_dataset_folder_path)"
   ]
  },
  {
   "cell_type": "markdown",
   "metadata": {
    "deletable": true,
    "editable": true
   },
   "source": [
    "## Explore the Data\n",
    "The dataset is broken into batches to prevent your machine from running out of memory.  The CIFAR-10 dataset consists of 5 batches, named `data_batch_1`, `data_batch_2`, etc.. Each batch contains the labels and images that are one of the following:\n",
    "* airplane\n",
    "* automobile\n",
    "* bird\n",
    "* cat\n",
    "* deer\n",
    "* dog\n",
    "* frog\n",
    "* horse\n",
    "* ship\n",
    "* truck\n",
    "\n",
    "Understanding a dataset is part of making predictions on the data.  Play around with the code cell below by changing the `batch_id` and `sample_id`. The `batch_id` is the id for a batch (1-5). The `sample_id` is the id for a image and label pair in the batch.\n",
    "\n",
    "Ask yourself \"What are all possible labels?\", \"What is the range of values for the image data?\", \"Are the labels in order or random?\".  Answers to questions like these will help you preprocess the data and end up with better predictions."
   ]
  },
  {
   "cell_type": "markdown",
   "metadata": {
    "deletable": true,
    "editable": true
   },
   "source": [
    "## Implement Preprocess Functions\n",
    "### Normalize\n",
    "In the cell below, implement the `normalize` function to take in image data, `x`, and return it as a normalized Numpy array. The values should be in the range of 0 to 1, inclusive.  The return object should be the same shape as `x`."
   ]
  },
  {
   "cell_type": "code",
   "execution_count": 67,
   "metadata": {
    "collapsed": false,
    "deletable": true,
    "editable": true
   },
   "outputs": [
    {
     "name": "stdout",
     "output_type": "stream",
     "text": [
      "\n",
      "Stats of batch 4:\n",
      "Samples: 10000\n",
      "Label Counts: {0: 1003, 1: 963, 2: 1041, 3: 976, 4: 1004, 5: 1021, 6: 1004, 7: 981, 8: 1024, 9: 983}\n",
      "First 20 Labels: [0, 6, 0, 2, 7, 2, 1, 2, 4, 1, 5, 6, 6, 3, 1, 3, 5, 5, 8, 1]\n",
      "\n",
      "Example of Image 19:\n",
      "Image - Min Value: 3 Max Value: 252\n",
      "Image - Shape: (32, 32, 3)\n",
      "Label - Label Id: 1 Name: automobile\n"
     ]
    },
    {
     "data": {
      "image/png": "[encoded data removed]",
      "text/plain": [
       "<matplotlib.figure.Figure at 0x1aa779c9b00>"
      ]
     },
     "metadata": {
      "image/png": {
       "height": 250,
       "width": 253
      }
     },
     "output_type": "display_data"
    }
   ],
   "source": [
    "%matplotlib inline\n",
    "%config InlineBackend.figure_format = 'retina'\n",
    "\n",
    "import helper\n",
    "import numpy as np\n",
    "from sklearn.preprocessing import OneHotEncoder\n",
    "import pandas\n",
    "\n",
    "# Explore the dataset\n",
    "batch_id = 4\n",
    "sample_id = 19\n",
    "helper.display_stats(cifar10_dataset_folder_path, batch_id, sample_id)"
   ]
  },
  {
   "cell_type": "code",
   "execution_count": 19,
   "metadata": {
    "collapsed": false,
    "deletable": true,
    "editable": true
   },
   "outputs": [
    {
     "name": "stdout",
     "output_type": "stream",
     "text": [
      "Tests Passed\n"
     ]
    }
   ],
   "source": [
    "def normalize(x):\n",
    "    \"\"\"\n",
    "    Normalize a list of sample image data in the range of 0 to 1\n",
    "    : x: List of image data.  The image shape is (32, 32, 3)\n",
    "    : return: Numpy array of normalize data\n",
    "    \"\"\"\n",
    "    # TODO: Implement Function\n",
    "        \n",
    "    return (x/255)\n",
    "\n",
    "\n",
    "\"\"\"\n",
    "DON'T MODIFY ANYTHING IN THIS CELL THAT IS BELOW THIS LINE\n",
    "\"\"\"\n",
    "tests.test_normalize(normalize)"
   ]
  },
  {
   "cell_type": "markdown",
   "metadata": {
    "deletable": true,
    "editable": true
   },
   "source": [
    "### One-hot encode\n",
    "Just like the previous code cell, you'll be implementing a function for preprocessing.  This time, you'll implement the `one_hot_encode` function. The input, `x`, are a list of labels.  Implement the function to return the list of labels as One-Hot encoded Numpy array.  The possible values for labels are 0 to 9. The one-hot encoding function should return the same encoding for each value between each call to `one_hot_encode`.  Make sure to save the map of encodings outside the function.\n",
    "\n",
    "Hint: Don't reinvent the wheel."
   ]
  },
  {
   "cell_type": "code",
   "execution_count": 72,
   "metadata": {
    "collapsed": false,
    "deletable": true,
    "editable": true
   },
   "outputs": [
    {
     "name": "stdout",
     "output_type": "stream",
     "text": [
      "Tests Passed\n"
     ]
    }
   ],
   "source": [
    "def one_hot_encode(x):\n",
    "    \"\"\"\n",
    "    One hot encode a list of sample labels. Return a one-hot encoded vector for each label.\n",
    "    : x: List of sample Labels\n",
    "    : return: Numpy array of one-hot encoded labels\n",
    "    \"\"\"\n",
    "    # TODO: Implement Function\n",
    "    \n",
    "    enc = OneHotEncoder(n_values=10)\n",
    "\n",
    "    df = pandas.DataFrame(x)\n",
    "    \n",
    "    df=enc.fit_transform(df)\n",
    "    \n",
    "    return (df.toarray())\n",
    "\n",
    "\n",
    "\"\"\"\n",
    "DON'T MODIFY ANYTHING IN THIS CELL THAT IS BELOW THIS LINE\n",
    "\"\"\"\n",
    "tests.test_one_hot_encode(one_hot_encode)"
   ]
  },
  {
   "cell_type": "markdown",
   "metadata": {
    "deletable": true,
    "editable": true
   },
   "source": [
    "### Randomize Data\n",
    "As you saw from exploring the data above, the order of the samples are randomized.  It doesn't hurt to randomize it again, but you don't need to for this dataset."
   ]
  },
  {
   "cell_type": "markdown",
   "metadata": {
    "deletable": true,
    "editable": true
   },
   "source": [
    "## Preprocess all the data and save it\n",
    "Running the code cell below will preprocess all the CIFAR-10 data and save it to file. The code below also uses 10% of the training data for validation."
   ]
  },
  {
   "cell_type": "code",
   "execution_count": 73,
   "metadata": {
    "collapsed": false,
    "deletable": true,
    "editable": true
   },
   "outputs": [],
   "source": [
    "\"\"\"\n",
    "DON'T MODIFY ANYTHING IN THIS CELL\n",
    "\"\"\"\n",
    "# Preprocess Training, Validation, and Testing Data\n",
    "helper.preprocess_and_save_data(cifar10_dataset_folder_path, normalize, one_hot_encode)"
   ]
  },
  {
   "cell_type": "markdown",
   "metadata": {
    "deletable": true,
    "editable": true
   },
   "source": [
    "# Check Point\n",
    "This is your first checkpoint.  If you ever decide to come back to this notebook or have to restart the notebook, you can start from here.  The preprocessed data has been saved to disk."
   ]
  },
  {
   "cell_type": "code",
   "execution_count": 1,
   "metadata": {
    "collapsed": true,
    "deletable": true,
    "editable": true
   },
   "outputs": [],
   "source": [
    "\"\"\"\n",
    "DON'T MODIFY ANYTHING IN THIS CELL\n",
    "\"\"\"\n",
    "import pickle\n",
    "import problem_unittests as tests\n",
    "import helper\n",
    "\n",
    "# Load the Preprocessed Validation data\n",
    "valid_features, valid_labels = pickle.load(open('preprocess_validation.p', mode='rb'))"
   ]
  },
  {
   "cell_type": "markdown",
   "metadata": {
    "deletable": true,
    "editable": true
   },
   "source": [
    "## Build the network\n",
    "For the neural network, you'll build each layer into a function.  Most of the code you've seen has been outside of functions. To test your code more thoroughly, we require that you put each layer in a function.  This allows us to give you better feedback and test for simple mistakes using our unittests before you submit your project.\n",
    "\n",
    ">**Note:** If you're finding it hard to dedicate enough time for this course each week, we've provided a small shortcut to this part of the project. In the next couple of problems, you'll have the option to use classes from the [TensorFlow Layers](https://www.tensorflow.org/api_docs/python/tf/layers) or [TensorFlow Layers (contrib)](https://www.tensorflow.org/api_guides/python/contrib.layers) packages to build each layer, except the layers you build in the \"Convolutional and Max Pooling Layer\" section.  TF Layers is similar to Keras's and TFLearn's abstraction to layers, so it's easy to pickup.\n",
    "\n",
    ">However, if you would like to get the most out of this course, try to solve all the problems _without_ using anything from the TF Layers packages. You **can** still use classes from other packages that happen to have the same name as ones you find in TF Layers! For example, instead of using the TF Layers version of the `conv2d` class, [tf.layers.conv2d](https://www.tensorflow.org/api_docs/python/tf/layers/conv2d), you would want to use the TF Neural Network version of `conv2d`, [tf.nn.conv2d](https://www.tensorflow.org/api_docs/python/tf/nn/conv2d). \n",
    "\n",
    "Let's begin!\n",
    "\n",
    "### Input\n",
    "The neural network needs to read the image data, one-hot encoded labels, and dropout keep probability. Implement the following functions\n",
    "* Implement `neural_net_image_input`\n",
    " * Return a [TF Placeholder](https://www.tensorflow.org/api_docs/python/tf/placeholder)\n",
    " * Set the shape using `image_shape` with batch size set to `None`.\n",
    " * Name the TensorFlow placeholder \"x\" using the TensorFlow `name` parameter in the [TF Placeholder](https://www.tensorflow.org/api_docs/python/tf/placeholder).\n",
    "* Implement `neural_net_label_input`\n",
    " * Return a [TF Placeholder](https://www.tensorflow.org/api_docs/python/tf/placeholder)\n",
    " * Set the shape using `n_classes` with batch size set to `None`.\n",
    " * Name the TensorFlow placeholder \"y\" using the TensorFlow `name` parameter in the [TF Placeholder](https://www.tensorflow.org/api_docs/python/tf/placeholder).\n",
    "* Implement `neural_net_keep_prob_input`\n",
    " * Return a [TF Placeholder](https://www.tensorflow.org/api_docs/python/tf/placeholder) for dropout keep probability.\n",
    " * Name the TensorFlow placeholder \"keep_prob\" using the TensorFlow `name` parameter in the [TF Placeholder](https://www.tensorflow.org/api_docs/python/tf/placeholder).\n",
    "\n",
    "These names will be used at the end of the project to load your saved model.\n",
    "\n",
    "Note: `None` for shapes in TensorFlow allow for a dynamic size."
   ]
  },
  {
   "cell_type": "code",
   "execution_count": 2,
   "metadata": {
    "collapsed": false,
    "deletable": true,
    "editable": true
   },
   "outputs": [
    {
     "name": "stdout",
     "output_type": "stream",
     "text": [
      "Image Input Tests Passed.\n",
      "Label Input Tests Passed.\n",
      "Keep Prob Tests Passed.\n"
     ]
    }
   ],
   "source": [
    "import tensorflow as tf\n",
    "\n",
    "def neural_net_image_input(image_shape):\n",
    "    \"\"\"\n",
    "    Return a Tensor for a bach of image input\n",
    "    : image_shape: Shape of the images\n",
    "    : return: Tensor for image input.\n",
    "    \"\"\"\n",
    "    # TODO: Implement Function\n",
    "    \n",
    "    return tf.placeholder(tf.float32, shape=[None,*image_shape], name = \"x\")\n",
    "\n",
    "\n",
    "def neural_net_label_input(n_classes):\n",
    "    \"\"\"\n",
    "    Return a Tensor for a batch of label input\n",
    "    : n_classes: Number of classes\n",
    "    : return: Tensor for label input.\n",
    "    \"\"\"\n",
    "    # TODO: Implement Function\n",
    "    #tf.placeholder()\n",
    "    return tf.placeholder(tf.float32, shape=[None,n_classes], name = \"y\")\n",
    "\n",
    "\n",
    "def neural_net_keep_prob_input():\n",
    "    \"\"\"\n",
    "    Return a Tensor for keep probability\n",
    "    : return: Tensor for keep probability.\n",
    "    \"\"\"\n",
    "    # TODO: Implement Function\n",
    "    #tf.placeholder()\n",
    "    return tf.placeholder(tf.float32, name = \"keep_prob\")\n",
    "\n",
    "\n",
    "\"\"\"\n",
    "DON'T MODIFY ANYTHING IN THIS CELL THAT IS BELOW THIS LINE\n",
    "\"\"\"\n",
    "tf.reset_default_graph()\n",
    "tests.test_nn_image_inputs(neural_net_image_input)\n",
    "tests.test_nn_label_inputs(neural_net_label_input)\n",
    "tests.test_nn_keep_prob_inputs(neural_net_keep_prob_input)"
   ]
  },
  {
   "cell_type": "markdown",
   "metadata": {
    "deletable": true,
    "editable": true
   },
   "source": [
    "### Convolution and Max Pooling Layer\n",
    "Convolution layers have a lot of success with images. For this code cell, you should implement the function `conv2d_maxpool` to apply convolution then max pooling:\n",
    "* Create the weight and bias using `conv_ksize`, `conv_num_outputs` and the shape of `x_tensor`.\n",
    "* Apply a convolution to `x_tensor` using weight and `conv_strides`.\n",
    " * We recommend you use same padding, but you're welcome to use any padding.\n",
    "* Add bias\n",
    "* Add a nonlinear activation to the convolution.\n",
    "* Apply Max Pooling using `pool_ksize` and `pool_strides`.\n",
    " * We recommend you use same padding, but you're welcome to use any padding.\n",
    "\n",
    "**Note:** You **can't** use [TensorFlow Layers](https://www.tensorflow.org/api_docs/python/tf/layers) or [TensorFlow Layers (contrib)](https://www.tensorflow.org/api_guides/python/contrib.layers) for **this** layer, but you can still use TensorFlow's [Neural Network](https://www.tensorflow.org/api_docs/python/tf/nn) package. You may still use the shortcut option for all the **other** layers."
   ]
  },
  {
   "cell_type": "code",
   "execution_count": 41,
   "metadata": {
    "collapsed": false,
    "deletable": true,
    "editable": true
   },
   "outputs": [
    {
     "name": "stdout",
     "output_type": "stream",
     "text": [
      "Tensor(\"Placeholder_2:0\", shape=(?, 32, 32, 5), dtype=float32)\n",
      "Tests Passed\n"
     ]
    }
   ],
   "source": [
    "def conv2d_maxpool(x_tensor, conv_num_outputs, conv_ksize, conv_strides, pool_ksize, pool_strides):\n",
    "    \"\"\"\n",
    "    Apply convolution then max pooling to x_tensor\n",
    "    :param x_tensor: TensorFlow Tensor\n",
    "    :param conv_num_outputs: Number of outputs for the convolutional layer\n",
    "    :param conv_ksize: kernal size 2-D Tuple for the convolutional layer\n",
    "    :param conv_strides: Stride 2-D Tuple for convolution\n",
    "    :param pool_ksize: kernal size 2-D Tuple for pool\n",
    "    :param pool_strides: Stride 2-D Tuple for pool\n",
    "    : return: A tensor that represents convolution and max pooling of x_tensor\n",
    "    \"\"\"\n",
    "    # TODO: Implement Function\n",
    "    print(x_tensor)\n",
    "    weight = tf.Variable(tf.truncated_normal([*conv_ksize,x_tensor.get_shape().as_list()[3],conv_num_outputs],stddev=0.01))\n",
    "    bias = tf.Variable(tf.zeros(conv_num_outputs))\n",
    "    \n",
    "    convmaxpool_layer = tf.nn.conv2d(x_tensor, weight, strides=[1,*conv_strides,1], padding='VALID')\n",
    "    convmaxpool_layer = tf.nn.bias_add(convmaxpool_layer, bias)\n",
    "    convmaxpool_layer = tf.nn.relu(convmaxpool_layer)\n",
    "    \n",
    "    convmaxpool_layer = tf.nn.max_pool(\n",
    "                                        convmaxpool_layer ,\n",
    "                                        ksize=[1,*pool_ksize,1],\n",
    "                                        strides=[1,*pool_strides,1],\n",
    "                                        padding='SAME')\n",
    "    \n",
    "    return convmaxpool_layer \n",
    "\n",
    "\n",
    "\"\"\"\n",
    "DON'T MODIFY ANYTHING IN THIS CELL THAT IS BELOW THIS LINE\n",
    "\"\"\"\n",
    "tests.test_con_pool(conv2d_maxpool)"
   ]
  },
  {
   "cell_type": "markdown",
   "metadata": {
    "deletable": true,
    "editable": true
   },
   "source": [
    "### Flatten Layer\n",
    "Implement the `flatten` function to change the dimension of `x_tensor` from a 4-D tensor to a 2-D tensor.  The output should be the shape (*Batch Size*, *Flattened Image Size*). Shortcut option: you can use classes from the [TensorFlow Layers](https://www.tensorflow.org/api_docs/python/tf/layers) or [TensorFlow Layers (contrib)](https://www.tensorflow.org/api_guides/python/contrib.layers) packages for this layer. For more of a challenge, only use other TensorFlow packages."
   ]
  },
  {
   "cell_type": "code",
   "execution_count": 42,
   "metadata": {
    "collapsed": false,
    "deletable": true,
    "editable": true
   },
   "outputs": [
    {
     "name": "stdout",
     "output_type": "stream",
     "text": [
      "Tests Passed\n"
     ]
    }
   ],
   "source": [
    "def flatten(x_tensor):\n",
    "    \"\"\"\n",
    "    Flatten x_tensor to (Batch Size, Flattened Image Size)\n",
    "    : x_tensor: A tensor of size (Batch Size, ...), where ... are the image dimensions.\n",
    "    : return: A tensor of size (Batch Size, Flattened Image Size).\n",
    "    \"\"\"\n",
    "    # TODO: Implement Function\n",
    "    flat_size = x_tensor.get_shape().as_list()[1]*x_tensor.get_shape().as_list()[2]*x_tensor.get_shape().as_list()[3]\n",
    "    return tf.reshape(x_tensor,[-1,flat_size])\n",
    "\n",
    "\n",
    "\"\"\"\n",
    "DON'T MODIFY ANYTHING IN THIS CELL THAT IS BELOW THIS LINE\n",
    "\"\"\"\n",
    "tests.test_flatten(flatten)"
   ]
  },
  {
   "cell_type": "markdown",
   "metadata": {
    "deletable": true,
    "editable": true
   },
   "source": [
    "### Fully-Connected Layer\n",
    "Implement the `fully_conn` function to apply a fully connected layer to `x_tensor` with the shape (*Batch Size*, *num_outputs*). Shortcut option: you can use classes from the [TensorFlow Layers](https://www.tensorflow.org/api_docs/python/tf/layers) or [TensorFlow Layers (contrib)](https://www.tensorflow.org/api_guides/python/contrib.layers) packages for this layer. For more of a challenge, only use other TensorFlow packages."
   ]
  },
  {
   "cell_type": "code",
   "execution_count": 43,
   "metadata": {
    "collapsed": false,
    "deletable": true,
    "editable": true
   },
   "outputs": [
    {
     "name": "stdout",
     "output_type": "stream",
     "text": [
      "Tests Passed\n"
     ]
    }
   ],
   "source": [
    "def fully_conn(x_tensor, num_outputs):\n",
    "    \"\"\"\n",
    "    Apply a fully connected layer to x_tensor using weight and bias\n",
    "    : x_tensor: A 2-D tensor where the first dimension is batch size.\n",
    "    : num_outputs: The number of output that the new tensor should be.\n",
    "    : return: A 2-D tensor where the second dimension is num_outputs.\n",
    "    \"\"\"\n",
    "    weights=tf.Variable(tf.truncated_normal([x_tensor.get_shape().as_list()[1],num_outputs],stddev=0.01))\n",
    "    bias = tf.Variable(tf.zeros(num_outputs))\n",
    "    conn_layer = tf.add(tf.matmul(x_tensor,weights),bias)\n",
    "    conn_layer = tf.nn.relu(conn_layer)\n",
    "    \n",
    "    # TODO: Implement Function\n",
    "    return conn_layer\n",
    "\n",
    "\n",
    "\"\"\"\n",
    "DON'T MODIFY ANYTHING IN THIS CELL THAT IS BELOW THIS LINE\n",
    "\"\"\"\n",
    "tests.test_fully_conn(fully_conn)"
   ]
  },
  {
   "cell_type": "markdown",
   "metadata": {
    "deletable": true,
    "editable": true
   },
   "source": [
    "### Output Layer\n",
    "Implement the `output` function to apply a fully connected layer to `x_tensor` with the shape (*Batch Size*, *num_outputs*). Shortcut option: you can use classes from the [TensorFlow Layers](https://www.tensorflow.org/api_docs/python/tf/layers) or [TensorFlow Layers (contrib)](https://www.tensorflow.org/api_guides/python/contrib.layers) packages for this layer. For more of a challenge, only use other TensorFlow packages.\n",
    "\n",
    "**Note:** Activation, softmax, or cross entropy should **not** be applied to this."
   ]
  },
  {
   "cell_type": "code",
   "execution_count": 44,
   "metadata": {
    "collapsed": false,
    "deletable": true,
    "editable": true
   },
   "outputs": [
    {
     "name": "stdout",
     "output_type": "stream",
     "text": [
      "Tests Passed\n"
     ]
    }
   ],
   "source": [
    "def output(x_tensor, num_outputs):\n",
    "    \"\"\"\n",
    "    Apply a output layer to x_tensor using weight and bias\n",
    "    : x_tensor: A 2-D tensor where the first dimension is batch size.\n",
    "    : num_outputs: The number of output that the new tensor should be.\n",
    "    : return: A 2-D tensor where the second dimension is num_outputs.\n",
    "    \"\"\"\n",
    "    # TODO: Implement Function\n",
    "    weights=tf.Variable(tf.truncated_normal([x_tensor.get_shape().as_list()[1],num_outputs]))\n",
    "    bias = tf.Variable(tf.zeros(num_outputs))\n",
    "    output_layer = tf.add(tf.matmul(x_tensor,weights),bias)\n",
    "    \n",
    "    return output_layer\n",
    "\n",
    "\n",
    "\"\"\"\n",
    "DON'T MODIFY ANYTHING IN THIS CELL THAT IS BELOW THIS LINE\n",
    "\"\"\"\n",
    "tests.test_output(output)"
   ]
  },
  {
   "cell_type": "markdown",
   "metadata": {
    "deletable": true,
    "editable": true
   },
   "source": [
    "### Create Convolutional Model\n",
    "Implement the function `conv_net` to create a convolutional neural network model. The function takes in a batch of images, `x`, and outputs logits.  Use the layers you created above to create this model:\n",
    "\n",
    "* Apply 1, 2, or 3 Convolution and Max Pool layers\n",
    "* Apply a Flatten Layer\n",
    "* Apply 1, 2, or 3 Fully Connected Layers\n",
    "* Apply an Output Layer\n",
    "* Return the output\n",
    "* Apply [TensorFlow's Dropout](https://www.tensorflow.org/api_docs/python/tf/nn/dropout) to one or more layers in the model using `keep_prob`. "
   ]
  },
  {
   "cell_type": "code",
   "execution_count": 45,
   "metadata": {
    "collapsed": false,
    "deletable": true,
    "editable": true
   },
   "outputs": [
    {
     "name": "stdout",
     "output_type": "stream",
     "text": [
      "Tensor(\"x:0\", shape=(?, 32, 32, 3), dtype=float32)\n",
      "Tensor(\"MaxPool:0\", shape=(?, 15, 15, 16), dtype=float32)\n",
      "Tensor(\"MaxPool_1:0\", shape=(?, 7, 7, 32), dtype=float32)\n",
      "Tensor(\"Placeholder:0\", shape=(?, 32, 32, 3), dtype=float32)\n",
      "Tensor(\"MaxPool_3:0\", shape=(?, 15, 15, 16), dtype=float32)\n",
      "Tensor(\"MaxPool_4:0\", shape=(?, 7, 7, 32), dtype=float32)\n",
      "Neural Network Built!\n"
     ]
    }
   ],
   "source": [
    "def conv_net(x, keep_prob):\n",
    "    \"\"\"\n",
    "    Create a convolutional neural network model\n",
    "    : x: Placeholder tensor that holds image data.\n",
    "    : keep_prob: Placeholder tensor that hold dropout keep probability.\n",
    "    : return: Tensor that represents logits\n",
    "    \"\"\"\n",
    "    \n",
    "    conv_ksize = (3, 3)\n",
    "    conv_strides = (1, 1)\n",
    "    pool_ksize = (2, 2)\n",
    "    pool_strides = (2, 2)\n",
    "    \n",
    "    # TODO: Apply 1, 2, or 3 Convolution and Max Pool layers\n",
    "    #    Play around with different number of outputs, kernel size and stride\n",
    "    # Function Definition from Above:\n",
    "    #    conv2d_maxpool(x_tensor, conv_num_outputs, conv_ksize, conv_strides, pool_ksize, pool_strides)\n",
    "    conv1 = conv2d_maxpool(x, 16, conv_ksize, conv_strides, pool_ksize, pool_strides)\n",
    "    conv2 = conv2d_maxpool(conv1, 32, conv_ksize, conv_strides, pool_ksize, pool_strides)\n",
    "    conv3 = conv2d_maxpool(conv2, 64, conv_ksize, conv_strides, pool_ksize, pool_strides)\n",
    "\n",
    "    \n",
    "    # TODO: Apply a Flatten Layer\n",
    "    # Function Definition from Above:\n",
    "    #   flatten(x_tensor)\n",
    "    x_flat = flatten(conv3)\n",
    "\n",
    "    # TODO: Apply 1, 2, or 3 Fully Connected Layers\n",
    "    #    Play around with different number of outputs\n",
    "    # Function Definition from Above:\n",
    "    #   fully_conn(x_tensor, num_outputs)\n",
    "    full_layer1 = fully_conn(x_flat,1000)\n",
    "    full_dropout1 = tf.nn.dropout(full_layer1, keep_prob)\n",
    "    \n",
    "    full_layer2 = fully_conn(full_dropout1,500)\n",
    "    full_dropout2 = tf.nn.dropout(full_layer2, keep_prob)\n",
    "    \n",
    "    # TODO: Apply an Output Layer\n",
    "    #    Set this to the number of classes\n",
    "    # Function Definition from Above:\n",
    "    #   output(x_tensor, num_outputs)\n",
    "    \n",
    "    output_layer = output(full_dropout2,10)\n",
    "    \n",
    "    # TODO: return output\n",
    "    return output_layer\n",
    "\n",
    "\n",
    "\"\"\"\n",
    "DON'T MODIFY ANYTHING IN THIS CELL THAT IS BELOW THIS LINE\n",
    "\"\"\"\n",
    "\n",
    "##############################\n",
    "## Build the Neural Network ##\n",
    "##############################\n",
    "\n",
    "# Remove previous weights, bias, inputs, etc..\n",
    "tf.reset_default_graph()\n",
    "\n",
    "# Inputs\n",
    "x = neural_net_image_input((32, 32, 3))\n",
    "y = neural_net_label_input(10)\n",
    "keep_prob = neural_net_keep_prob_input()\n",
    "\n",
    "# Model\n",
    "logits = conv_net(x, keep_prob)\n",
    "\n",
    "# Name logits Tensor, so that is can be loaded from disk after training\n",
    "logits = tf.identity(logits, name='logits')\n",
    "\n",
    "# Loss and Optimizer\n",
    "cost = tf.reduce_mean(tf.nn.softmax_cross_entropy_with_logits(logits=logits, labels=y))\n",
    "optimizer = tf.train.AdamOptimizer().minimize(cost)\n",
    "\n",
    "# Accuracy\n",
    "correct_pred = tf.equal(tf.argmax(logits, 1), tf.argmax(y, 1))\n",
    "accuracy = tf.reduce_mean(tf.cast(correct_pred, tf.float32), name='accuracy')\n",
    "\n",
    "tests.test_conv_net(conv_net)"
   ]
  },
  {
   "cell_type": "markdown",
   "metadata": {
    "deletable": true,
    "editable": true
   },
   "source": [
    "## Train the Neural Network\n",
    "### Single Optimization\n",
    "Implement the function `train_neural_network` to do a single optimization.  The optimization should use `optimizer` to optimize in `session` with a `feed_dict` of the following:\n",
    "* `x` for image input\n",
    "* `y` for labels\n",
    "* `keep_prob` for keep probability for dropout\n",
    "\n",
    "This function will be called for each batch, so `tf.global_variables_initializer()` has already been called.\n",
    "\n",
    "Note: Nothing needs to be returned. This function is only optimizing the neural network."
   ]
  },
  {
   "cell_type": "code",
   "execution_count": 46,
   "metadata": {
    "collapsed": false,
    "deletable": true,
    "editable": true
   },
   "outputs": [
    {
     "name": "stdout",
     "output_type": "stream",
     "text": [
      "Tests Passed\n"
     ]
    }
   ],
   "source": [
    "def train_neural_network(session, optimizer, keep_probability, feature_batch, label_batch):\n",
    "    \"\"\"\n",
    "    Optimize the session on a batch of images and labels\n",
    "    : session: Current TensorFlow session\n",
    "    : optimizer: TensorFlow optimizer function\n",
    "    : keep_probability: keep probability\n",
    "    : feature_batch: Batch of Numpy image data\n",
    "    : label_batch: Batch of Numpy label data\n",
    "    \"\"\"\n",
    "    # TODO: Implement Function\n",
    "    session.run(optimizer, feed_dict={x: feature_batch, y: label_batch, keep_prob: keep_probability})\n",
    "    \n",
    "    pass\n",
    "\n",
    "\n",
    "\"\"\"\n",
    "DON'T MODIFY ANYTHING IN THIS CELL THAT IS BELOW THIS LINE\n",
    "\"\"\"\n",
    "tests.test_train_nn(train_neural_network)"
   ]
  },
  {
   "cell_type": "markdown",
   "metadata": {
    "deletable": true,
    "editable": true
   },
   "source": [
    "### Show Stats\n",
    "Implement the function `print_stats` to print loss and validation accuracy.  Use the global variables `valid_features` and `valid_labels` to calculate validation accuracy.  Use a keep probability of `1.0` to calculate the loss and validation accuracy."
   ]
  },
  {
   "cell_type": "code",
   "execution_count": 47,
   "metadata": {
    "collapsed": false,
    "deletable": true,
    "editable": true
   },
   "outputs": [],
   "source": [
    "def print_stats(session, feature_batch, label_batch, cost, accuracy):\n",
    "    \"\"\"\n",
    "    Print information about loss and validation accuracy\n",
    "    : session: Current TensorFlow session\n",
    "    : feature_batch: Batch of Numpy image data\n",
    "    : label_batch: Batch of Numpy label data\n",
    "    : cost: TensorFlow cost function\n",
    "    : accuracy: TensorFlow accuracy function\n",
    "    \"\"\"\n",
    "    # TODO: Implement Function\n",
    "    loss = session.run(cost, feed_dict= {x:feature_batch , y: label_batch, keep_prob: 1.0})\n",
    "    validation_acc = session.run(accuracy, feed_dict= {x: valid_features,y: valid_labels,keep_prob: 1.0})\n",
    "    print('Loss: {:>10.4f} Validation Accuracy: {:.6f}'.format(loss, validation_acc))\n",
    "    pass"
   ]
  },
  {
   "cell_type": "markdown",
   "metadata": {
    "deletable": true,
    "editable": true
   },
   "source": [
    "### Hyperparameters\n",
    "Tune the following parameters:\n",
    "* Set `epochs` to the number of iterations until the network stops learning or start overfitting\n",
    "* Set `batch_size` to the highest number that your machine has memory for.  Most people set them to common sizes of memory:\n",
    " * 64\n",
    " * 128\n",
    " * 256\n",
    " * ...\n",
    "* Set `keep_probability` to the probability of keeping a node using dropout"
   ]
  },
  {
   "cell_type": "code",
   "execution_count": 54,
   "metadata": {
    "collapsed": true,
    "deletable": true,
    "editable": true
   },
   "outputs": [],
   "source": [
    "# TODO: Tune Parameters\n",
    "epochs = 50\n",
    "batch_size = 128\n",
    "keep_probability = 0.8"
   ]
  },
  {
   "cell_type": "markdown",
   "metadata": {
    "deletable": true,
    "editable": true
   },
   "source": [
    "### Train on a Single CIFAR-10 Batch\n",
    "Instead of training the neural network on all the CIFAR-10 batches of data, let's use a single batch. This should save time while you iterate on the model to get a better accuracy.  Once the final validation accuracy is 50% or greater, run the model on all the data in the next section."
   ]
  },
  {
   "cell_type": "code",
   "execution_count": 55,
   "metadata": {
    "collapsed": false,
    "deletable": true,
    "editable": true
   },
   "outputs": [
    {
     "name": "stdout",
     "output_type": "stream",
     "text": [
      "Checking the Training on a Single Batch...\n",
      "Epoch  1, CIFAR-10 Batch 1:  Loss:     2.2209 Validation Accuracy: 0.208600\n",
      "Epoch  2, CIFAR-10 Batch 1:  Loss:     2.2080 Validation Accuracy: 0.243400\n",
      "Epoch  3, CIFAR-10 Batch 1:  Loss:     2.1674 Validation Accuracy: 0.274800\n",
      "Epoch  4, CIFAR-10 Batch 1:  Loss:     2.0637 Validation Accuracy: 0.305200\n",
      "Epoch  5, CIFAR-10 Batch 1:  Loss:     2.0127 Validation Accuracy: 0.350200\n",
      "Epoch  6, CIFAR-10 Batch 1:  Loss:     1.9479 Validation Accuracy: 0.366000\n",
      "Epoch  7, CIFAR-10 Batch 1:  Loss:     1.8852 Validation Accuracy: 0.383000\n",
      "Epoch  8, CIFAR-10 Batch 1:  Loss:     1.8020 Validation Accuracy: 0.390400\n",
      "Epoch  9, CIFAR-10 Batch 1:  Loss:     1.7189 Validation Accuracy: 0.402400\n",
      "Epoch 10, CIFAR-10 Batch 1:  Loss:     1.6889 Validation Accuracy: 0.413400\n",
      "Epoch 11, CIFAR-10 Batch 1:  Loss:     1.6918 Validation Accuracy: 0.420800\n",
      "Epoch 12, CIFAR-10 Batch 1:  Loss:     1.5919 Validation Accuracy: 0.428800\n",
      "Epoch 13, CIFAR-10 Batch 1:  Loss:     1.5810 Validation Accuracy: 0.433600\n",
      "Epoch 14, CIFAR-10 Batch 1:  Loss:     1.5612 Validation Accuracy: 0.440200\n",
      "Epoch 15, CIFAR-10 Batch 1:  Loss:     1.5869 Validation Accuracy: 0.440800\n",
      "Epoch 16, CIFAR-10 Batch 1:  Loss:     1.5353 Validation Accuracy: 0.444200\n",
      "Epoch 17, CIFAR-10 Batch 1:  Loss:     1.4715 Validation Accuracy: 0.446800\n",
      "Epoch 18, CIFAR-10 Batch 1:  Loss:     1.4579 Validation Accuracy: 0.457400\n",
      "Epoch 19, CIFAR-10 Batch 1:  Loss:     1.4484 Validation Accuracy: 0.455400\n",
      "Epoch 20, CIFAR-10 Batch 1:  Loss:     1.3987 Validation Accuracy: 0.457000\n",
      "Epoch 21, CIFAR-10 Batch 1:  Loss:     1.3760 Validation Accuracy: 0.461000\n",
      "Epoch 22, CIFAR-10 Batch 1:  Loss:     1.3697 Validation Accuracy: 0.469200\n",
      "Epoch 23, CIFAR-10 Batch 1:  Loss:     1.3592 Validation Accuracy: 0.466400\n",
      "Epoch 24, CIFAR-10 Batch 1:  Loss:     1.2798 Validation Accuracy: 0.473400\n",
      "Epoch 25, CIFAR-10 Batch 1:  Loss:     1.2592 Validation Accuracy: 0.475400\n",
      "Epoch 26, CIFAR-10 Batch 1:  Loss:     1.2208 Validation Accuracy: 0.479800\n",
      "Epoch 27, CIFAR-10 Batch 1:  Loss:     1.1885 Validation Accuracy: 0.479200\n",
      "Epoch 28, CIFAR-10 Batch 1:  Loss:     1.1822 Validation Accuracy: 0.483000\n",
      "Epoch 29, CIFAR-10 Batch 1:  Loss:     1.1393 Validation Accuracy: 0.484200\n",
      "Epoch 30, CIFAR-10 Batch 1:  Loss:     1.0996 Validation Accuracy: 0.493400\n",
      "Epoch 31, CIFAR-10 Batch 1:  Loss:     1.0615 Validation Accuracy: 0.492000\n",
      "Epoch 32, CIFAR-10 Batch 1:  Loss:     1.0395 Validation Accuracy: 0.496600\n",
      "Epoch 33, CIFAR-10 Batch 1:  Loss:     0.9987 Validation Accuracy: 0.494800\n",
      "Epoch 34, CIFAR-10 Batch 1:  Loss:     0.9985 Validation Accuracy: 0.496000\n",
      "Epoch 35, CIFAR-10 Batch 1:  Loss:     0.9790 Validation Accuracy: 0.485200\n",
      "Epoch 36, CIFAR-10 Batch 1:  Loss:     0.9518 Validation Accuracy: 0.494400\n",
      "Epoch 37, CIFAR-10 Batch 1:  Loss:     0.9317 Validation Accuracy: 0.499000\n",
      "Epoch 38, CIFAR-10 Batch 1:  Loss:     0.9085 Validation Accuracy: 0.501600\n",
      "Epoch 39, CIFAR-10 Batch 1:  Loss:     0.8855 Validation Accuracy: 0.496200\n",
      "Epoch 40, CIFAR-10 Batch 1:  Loss:     0.8578 Validation Accuracy: 0.500400\n",
      "Epoch 41, CIFAR-10 Batch 1:  Loss:     0.8197 Validation Accuracy: 0.496400\n",
      "Epoch 42, CIFAR-10 Batch 1:  Loss:     0.8142 Validation Accuracy: 0.498600\n",
      "Epoch 43, CIFAR-10 Batch 1:  Loss:     0.7812 Validation Accuracy: 0.508000\n",
      "Epoch 44, CIFAR-10 Batch 1:  Loss:     0.7719 Validation Accuracy: 0.512000\n",
      "Epoch 45, CIFAR-10 Batch 1:  Loss:     0.7064 Validation Accuracy: 0.512400\n",
      "Epoch 46, CIFAR-10 Batch 1:  Loss:     0.7264 Validation Accuracy: 0.506200\n",
      "Epoch 47, CIFAR-10 Batch 1:  Loss:     0.7031 Validation Accuracy: 0.500000\n",
      "Epoch 48, CIFAR-10 Batch 1:  Loss:     0.6440 Validation Accuracy: 0.501600\n",
      "Epoch 49, CIFAR-10 Batch 1:  Loss:     0.6665 Validation Accuracy: 0.493400\n",
      "Epoch 50, CIFAR-10 Batch 1:  Loss:     0.6395 Validation Accuracy: 0.503000\n"
     ]
    }
   ],
   "source": [
    "\"\"\"\n",
    "DON'T MODIFY ANYTHING IN THIS CELL\n",
    "\"\"\"\n",
    "print('Checking the Training on a Single Batch...')\n",
    "with tf.Session() as sess:\n",
    "    # Initializing the variables\n",
    "    sess.run(tf.global_variables_initializer())\n",
    "    \n",
    "    # Training cycle\n",
    "    for epoch in range(epochs):\n",
    "        batch_i = 1\n",
    "        for batch_features, batch_labels in helper.load_preprocess_training_batch(batch_i, batch_size):\n",
    "            train_neural_network(sess, optimizer, keep_probability, batch_features, batch_labels)\n",
    "        print('Epoch {:>2}, CIFAR-10 Batch {}:  '.format(epoch + 1, batch_i), end='')\n",
    "        print_stats(sess, batch_features, batch_labels, cost, accuracy)"
   ]
  },
  {
   "cell_type": "markdown",
   "metadata": {
    "deletable": true,
    "editable": true
   },
   "source": [
    "### Fully Train the Model\n",
    "Now that you got a good accuracy with a single CIFAR-10 batch, try it with all five batches."
   ]
  },
  {
   "cell_type": "code",
   "execution_count": 56,
   "metadata": {
    "collapsed": false,
    "deletable": true,
    "editable": true
   },
   "outputs": [
    {
     "name": "stdout",
     "output_type": "stream",
     "text": [
      "Training...\n",
      "Epoch  1, CIFAR-10 Batch 1:  Loss:     2.2465 Validation Accuracy: 0.144800\n",
      "Epoch  1, CIFAR-10 Batch 2:  Loss:     2.1458 Validation Accuracy: 0.242600\n",
      "Epoch  1, CIFAR-10 Batch 3:  Loss:     1.9032 Validation Accuracy: 0.239600\n",
      "Epoch  1, CIFAR-10 Batch 4:  Loss:     1.9243 Validation Accuracy: 0.273000\n",
      "Epoch  1, CIFAR-10 Batch 5:  Loss:     2.1326 Validation Accuracy: 0.281600\n",
      "Epoch  2, CIFAR-10 Batch 1:  Loss:     2.1002 Validation Accuracy: 0.303000\n",
      "Epoch  2, CIFAR-10 Batch 2:  Loss:     1.9419 Validation Accuracy: 0.328800\n",
      "Epoch  2, CIFAR-10 Batch 3:  Loss:     1.6152 Validation Accuracy: 0.333000\n",
      "Epoch  2, CIFAR-10 Batch 4:  Loss:     1.6859 Validation Accuracy: 0.358600\n",
      "Epoch  2, CIFAR-10 Batch 5:  Loss:     1.9447 Validation Accuracy: 0.380800\n",
      "Epoch  3, CIFAR-10 Batch 1:  Loss:     1.9012 Validation Accuracy: 0.387200\n",
      "Epoch  3, CIFAR-10 Batch 2:  Loss:     1.7484 Validation Accuracy: 0.414200\n",
      "Epoch  3, CIFAR-10 Batch 3:  Loss:     1.3613 Validation Accuracy: 0.415800\n",
      "Epoch  3, CIFAR-10 Batch 4:  Loss:     1.5474 Validation Accuracy: 0.415800\n",
      "Epoch  3, CIFAR-10 Batch 5:  Loss:     1.7764 Validation Accuracy: 0.431800\n",
      "Epoch  4, CIFAR-10 Batch 1:  Loss:     1.7941 Validation Accuracy: 0.430800\n",
      "Epoch  4, CIFAR-10 Batch 2:  Loss:     1.6893 Validation Accuracy: 0.446800\n",
      "Epoch  4, CIFAR-10 Batch 3:  Loss:     1.2423 Validation Accuracy: 0.427400\n",
      "Epoch  4, CIFAR-10 Batch 4:  Loss:     1.4875 Validation Accuracy: 0.446600\n",
      "Epoch  4, CIFAR-10 Batch 5:  Loss:     1.7292 Validation Accuracy: 0.443800\n",
      "Epoch  5, CIFAR-10 Batch 1:  Loss:     1.7224 Validation Accuracy: 0.460600\n",
      "Epoch  5, CIFAR-10 Batch 2:  Loss:     1.6475 Validation Accuracy: 0.464600\n",
      "Epoch  5, CIFAR-10 Batch 3:  Loss:     1.1723 Validation Accuracy: 0.439800\n",
      "Epoch  5, CIFAR-10 Batch 4:  Loss:     1.4227 Validation Accuracy: 0.461400\n",
      "Epoch  5, CIFAR-10 Batch 5:  Loss:     1.6388 Validation Accuracy: 0.467200\n",
      "Epoch  6, CIFAR-10 Batch 1:  Loss:     1.6641 Validation Accuracy: 0.450000\n",
      "Epoch  6, CIFAR-10 Batch 2:  Loss:     1.6003 Validation Accuracy: 0.473800\n",
      "Epoch  6, CIFAR-10 Batch 3:  Loss:     1.1817 Validation Accuracy: 0.447000\n",
      "Epoch  6, CIFAR-10 Batch 4:  Loss:     1.3806 Validation Accuracy: 0.472600\n",
      "Epoch  6, CIFAR-10 Batch 5:  Loss:     1.5936 Validation Accuracy: 0.475000\n",
      "Epoch  7, CIFAR-10 Batch 1:  Loss:     1.5966 Validation Accuracy: 0.466200\n",
      "Epoch  7, CIFAR-10 Batch 2:  Loss:     1.5892 Validation Accuracy: 0.479200\n",
      "Epoch  7, CIFAR-10 Batch 3:  Loss:     1.1587 Validation Accuracy: 0.457400\n",
      "Epoch  7, CIFAR-10 Batch 4:  Loss:     1.3475 Validation Accuracy: 0.488200\n",
      "Epoch  7, CIFAR-10 Batch 5:  Loss:     1.5415 Validation Accuracy: 0.483800\n",
      "Epoch  8, CIFAR-10 Batch 1:  Loss:     1.6194 Validation Accuracy: 0.468200\n",
      "Epoch  8, CIFAR-10 Batch 2:  Loss:     1.5369 Validation Accuracy: 0.488600\n",
      "Epoch  8, CIFAR-10 Batch 3:  Loss:     1.1238 Validation Accuracy: 0.471400\n",
      "Epoch  8, CIFAR-10 Batch 4:  Loss:     1.3396 Validation Accuracy: 0.490000\n",
      "Epoch  8, CIFAR-10 Batch 5:  Loss:     1.5242 Validation Accuracy: 0.487000\n",
      "Epoch  9, CIFAR-10 Batch 1:  Loss:     1.5199 Validation Accuracy: 0.476600\n",
      "Epoch  9, CIFAR-10 Batch 2:  Loss:     1.5178 Validation Accuracy: 0.491000\n",
      "Epoch  9, CIFAR-10 Batch 3:  Loss:     1.1131 Validation Accuracy: 0.477000\n",
      "Epoch  9, CIFAR-10 Batch 4:  Loss:     1.3097 Validation Accuracy: 0.497400\n",
      "Epoch  9, CIFAR-10 Batch 5:  Loss:     1.4961 Validation Accuracy: 0.492000\n",
      "Epoch 10, CIFAR-10 Batch 1:  Loss:     1.4819 Validation Accuracy: 0.494200\n",
      "Epoch 10, CIFAR-10 Batch 2:  Loss:     1.4628 Validation Accuracy: 0.494200\n",
      "Epoch 10, CIFAR-10 Batch 3:  Loss:     1.0879 Validation Accuracy: 0.479600\n",
      "Epoch 10, CIFAR-10 Batch 4:  Loss:     1.3161 Validation Accuracy: 0.503200\n",
      "Epoch 10, CIFAR-10 Batch 5:  Loss:     1.4484 Validation Accuracy: 0.490600\n",
      "Epoch 11, CIFAR-10 Batch 1:  Loss:     1.4928 Validation Accuracy: 0.495800\n",
      "Epoch 11, CIFAR-10 Batch 2:  Loss:     1.4578 Validation Accuracy: 0.496600\n",
      "Epoch 11, CIFAR-10 Batch 3:  Loss:     1.0777 Validation Accuracy: 0.485400\n",
      "Epoch 11, CIFAR-10 Batch 4:  Loss:     1.2987 Validation Accuracy: 0.495800\n",
      "Epoch 11, CIFAR-10 Batch 5:  Loss:     1.4082 Validation Accuracy: 0.496000\n",
      "Epoch 12, CIFAR-10 Batch 1:  Loss:     1.4358 Validation Accuracy: 0.497200\n",
      "Epoch 12, CIFAR-10 Batch 2:  Loss:     1.4165 Validation Accuracy: 0.499800\n",
      "Epoch 12, CIFAR-10 Batch 3:  Loss:     1.0418 Validation Accuracy: 0.491400\n",
      "Epoch 12, CIFAR-10 Batch 4:  Loss:     1.2518 Validation Accuracy: 0.502400\n",
      "Epoch 12, CIFAR-10 Batch 5:  Loss:     1.4195 Validation Accuracy: 0.498400\n",
      "Epoch 13, CIFAR-10 Batch 1:  Loss:     1.4034 Validation Accuracy: 0.492800\n",
      "Epoch 13, CIFAR-10 Batch 2:  Loss:     1.4047 Validation Accuracy: 0.507200\n",
      "Epoch 13, CIFAR-10 Batch 3:  Loss:     1.0396 Validation Accuracy: 0.492800\n",
      "Epoch 13, CIFAR-10 Batch 4:  Loss:     1.2768 Validation Accuracy: 0.505200\n",
      "Epoch 13, CIFAR-10 Batch 5:  Loss:     1.3416 Validation Accuracy: 0.495200\n",
      "Epoch 14, CIFAR-10 Batch 1:  Loss:     1.3456 Validation Accuracy: 0.502000\n",
      "Epoch 14, CIFAR-10 Batch 2:  Loss:     1.3511 Validation Accuracy: 0.507400\n",
      "Epoch 14, CIFAR-10 Batch 3:  Loss:     1.0083 Validation Accuracy: 0.502600\n",
      "Epoch 14, CIFAR-10 Batch 4:  Loss:     1.2261 Validation Accuracy: 0.502400\n",
      "Epoch 14, CIFAR-10 Batch 5:  Loss:     1.3447 Validation Accuracy: 0.498400\n",
      "Epoch 15, CIFAR-10 Batch 1:  Loss:     1.3497 Validation Accuracy: 0.499600\n",
      "Epoch 15, CIFAR-10 Batch 2:  Loss:     1.3600 Validation Accuracy: 0.509800\n",
      "Epoch 15, CIFAR-10 Batch 3:  Loss:     1.0061 Validation Accuracy: 0.503200\n",
      "Epoch 15, CIFAR-10 Batch 4:  Loss:     1.2092 Validation Accuracy: 0.506800\n",
      "Epoch 15, CIFAR-10 Batch 5:  Loss:     1.2838 Validation Accuracy: 0.497200\n",
      "Epoch 16, CIFAR-10 Batch 1:  Loss:     1.3005 Validation Accuracy: 0.495600\n",
      "Epoch 16, CIFAR-10 Batch 2:  Loss:     1.3462 Validation Accuracy: 0.510400\n",
      "Epoch 16, CIFAR-10 Batch 3:  Loss:     0.9799 Validation Accuracy: 0.506200\n",
      "Epoch 16, CIFAR-10 Batch 4:  Loss:     1.1909 Validation Accuracy: 0.510400\n",
      "Epoch 16, CIFAR-10 Batch 5:  Loss:     1.2427 Validation Accuracy: 0.501200\n",
      "Epoch 17, CIFAR-10 Batch 1:  Loss:     1.2929 Validation Accuracy: 0.505800\n",
      "Epoch 17, CIFAR-10 Batch 2:  Loss:     1.3158 Validation Accuracy: 0.512800\n",
      "Epoch 17, CIFAR-10 Batch 3:  Loss:     0.9868 Validation Accuracy: 0.505200\n",
      "Epoch 17, CIFAR-10 Batch 4:  Loss:     1.2036 Validation Accuracy: 0.508800\n",
      "Epoch 17, CIFAR-10 Batch 5:  Loss:     1.2214 Validation Accuracy: 0.504400\n",
      "Epoch 18, CIFAR-10 Batch 1:  Loss:     1.2586 Validation Accuracy: 0.513400\n",
      "Epoch 18, CIFAR-10 Batch 2:  Loss:     1.3258 Validation Accuracy: 0.510600\n",
      "Epoch 18, CIFAR-10 Batch 3:  Loss:     0.9322 Validation Accuracy: 0.513000\n",
      "Epoch 18, CIFAR-10 Batch 4:  Loss:     1.2171 Validation Accuracy: 0.510800\n",
      "Epoch 18, CIFAR-10 Batch 5:  Loss:     1.1753 Validation Accuracy: 0.514800\n",
      "Epoch 19, CIFAR-10 Batch 1:  Loss:     1.2253 Validation Accuracy: 0.508800\n",
      "Epoch 19, CIFAR-10 Batch 2:  Loss:     1.2586 Validation Accuracy: 0.517600\n",
      "Epoch 19, CIFAR-10 Batch 3:  Loss:     0.9495 Validation Accuracy: 0.509000\n",
      "Epoch 19, CIFAR-10 Batch 4:  Loss:     1.1682 Validation Accuracy: 0.507600\n",
      "Epoch 19, CIFAR-10 Batch 5:  Loss:     1.1387 Validation Accuracy: 0.518200\n",
      "Epoch 20, CIFAR-10 Batch 1:  Loss:     1.2008 Validation Accuracy: 0.519600\n",
      "Epoch 20, CIFAR-10 Batch 2:  Loss:     1.2232 Validation Accuracy: 0.518600\n",
      "Epoch 20, CIFAR-10 Batch 3:  Loss:     0.9455 Validation Accuracy: 0.510400\n",
      "Epoch 20, CIFAR-10 Batch 4:  Loss:     1.1126 Validation Accuracy: 0.512400\n",
      "Epoch 20, CIFAR-10 Batch 5:  Loss:     1.1244 Validation Accuracy: 0.510000\n",
      "Epoch 21, CIFAR-10 Batch 1:  Loss:     1.1911 Validation Accuracy: 0.519600\n",
      "Epoch 21, CIFAR-10 Batch 2:  Loss:     1.2207 Validation Accuracy: 0.521400\n",
      "Epoch 21, CIFAR-10 Batch 3:  Loss:     0.9040 Validation Accuracy: 0.513000\n",
      "Epoch 21, CIFAR-10 Batch 4:  Loss:     1.1263 Validation Accuracy: 0.519000\n",
      "Epoch 21, CIFAR-10 Batch 5:  Loss:     1.0797 Validation Accuracy: 0.521600\n",
      "Epoch 22, CIFAR-10 Batch 1:  Loss:     1.1920 Validation Accuracy: 0.524800\n",
      "Epoch 22, CIFAR-10 Batch 2:  Loss:     1.2095 Validation Accuracy: 0.523800\n",
      "Epoch 22, CIFAR-10 Batch 3:  Loss:     0.9157 Validation Accuracy: 0.516200\n",
      "Epoch 22, CIFAR-10 Batch 4:  Loss:     1.0779 Validation Accuracy: 0.518600\n",
      "Epoch 22, CIFAR-10 Batch 5:  Loss:     1.0843 Validation Accuracy: 0.518000\n",
      "Epoch 23, CIFAR-10 Batch 1:  Loss:     1.1382 Validation Accuracy: 0.521000\n",
      "Epoch 23, CIFAR-10 Batch 2:  Loss:     1.1926 Validation Accuracy: 0.521000\n",
      "Epoch 23, CIFAR-10 Batch 3:  Loss:     0.8776 Validation Accuracy: 0.522600\n",
      "Epoch 23, CIFAR-10 Batch 4:  Loss:     1.0473 Validation Accuracy: 0.515000\n",
      "Epoch 23, CIFAR-10 Batch 5:  Loss:     1.0558 Validation Accuracy: 0.518000\n",
      "Epoch 24, CIFAR-10 Batch 1:  Loss:     1.1538 Validation Accuracy: 0.516600\n",
      "Epoch 24, CIFAR-10 Batch 2:  Loss:     1.1494 Validation Accuracy: 0.521000\n",
      "Epoch 24, CIFAR-10 Batch 3:  Loss:     0.8795 Validation Accuracy: 0.514000\n",
      "Epoch 24, CIFAR-10 Batch 4:  Loss:     1.0187 Validation Accuracy: 0.515000\n",
      "Epoch 24, CIFAR-10 Batch 5:  Loss:     1.0241 Validation Accuracy: 0.517400\n",
      "Epoch 25, CIFAR-10 Batch 1:  Loss:     1.1256 Validation Accuracy: 0.522200\n",
      "Epoch 25, CIFAR-10 Batch 2:  Loss:     1.1239 Validation Accuracy: 0.524400\n",
      "Epoch 25, CIFAR-10 Batch 3:  Loss:     0.8649 Validation Accuracy: 0.521400\n",
      "Epoch 25, CIFAR-10 Batch 4:  Loss:     1.0424 Validation Accuracy: 0.516200\n",
      "Epoch 25, CIFAR-10 Batch 5:  Loss:     0.9749 Validation Accuracy: 0.511000\n",
      "Epoch 26, CIFAR-10 Batch 1:  Loss:     1.1424 Validation Accuracy: 0.530800\n",
      "Epoch 26, CIFAR-10 Batch 2:  Loss:     1.1220 Validation Accuracy: 0.523600\n",
      "Epoch 26, CIFAR-10 Batch 3:  Loss:     0.8317 Validation Accuracy: 0.524600\n",
      "Epoch 26, CIFAR-10 Batch 4:  Loss:     0.9988 Validation Accuracy: 0.518800\n",
      "Epoch 26, CIFAR-10 Batch 5:  Loss:     0.9574 Validation Accuracy: 0.526600\n",
      "Epoch 27, CIFAR-10 Batch 1:  Loss:     1.1239 Validation Accuracy: 0.522200\n",
      "Epoch 27, CIFAR-10 Batch 2:  Loss:     1.0537 Validation Accuracy: 0.520600\n",
      "Epoch 27, CIFAR-10 Batch 3:  Loss:     0.8712 Validation Accuracy: 0.520200\n",
      "Epoch 27, CIFAR-10 Batch 4:  Loss:     0.9822 Validation Accuracy: 0.517800\n",
      "Epoch 27, CIFAR-10 Batch 5:  Loss:     0.9981 Validation Accuracy: 0.523000\n",
      "Epoch 28, CIFAR-10 Batch 1:  Loss:     1.0305 Validation Accuracy: 0.519200\n",
      "Epoch 28, CIFAR-10 Batch 2:  Loss:     1.0664 Validation Accuracy: 0.530000\n",
      "Epoch 28, CIFAR-10 Batch 3:  Loss:     0.8047 Validation Accuracy: 0.519400\n",
      "Epoch 28, CIFAR-10 Batch 4:  Loss:     0.9537 Validation Accuracy: 0.522000\n",
      "Epoch 28, CIFAR-10 Batch 5:  Loss:     0.9237 Validation Accuracy: 0.526400\n",
      "Epoch 29, CIFAR-10 Batch 1:  Loss:     1.0124 Validation Accuracy: 0.525600\n",
      "Epoch 29, CIFAR-10 Batch 2:  Loss:     1.0139 Validation Accuracy: 0.534000\n",
      "Epoch 29, CIFAR-10 Batch 3:  Loss:     0.7633 Validation Accuracy: 0.520600\n",
      "Epoch 29, CIFAR-10 Batch 4:  Loss:     0.9001 Validation Accuracy: 0.519200\n",
      "Epoch 29, CIFAR-10 Batch 5:  Loss:     0.8955 Validation Accuracy: 0.529600\n",
      "Epoch 30, CIFAR-10 Batch 1:  Loss:     0.9673 Validation Accuracy: 0.528800\n",
      "Epoch 30, CIFAR-10 Batch 2:  Loss:     0.9873 Validation Accuracy: 0.531600\n",
      "Epoch 30, CIFAR-10 Batch 3:  Loss:     0.7732 Validation Accuracy: 0.518400\n",
      "Epoch 30, CIFAR-10 Batch 4:  Loss:     0.9317 Validation Accuracy: 0.522200\n",
      "Epoch 30, CIFAR-10 Batch 5:  Loss:     0.8751 Validation Accuracy: 0.521600\n",
      "Epoch 31, CIFAR-10 Batch 1:  Loss:     0.9490 Validation Accuracy: 0.529800\n",
      "Epoch 31, CIFAR-10 Batch 2:  Loss:     1.0000 Validation Accuracy: 0.537800\n",
      "Epoch 31, CIFAR-10 Batch 3:  Loss:     0.7627 Validation Accuracy: 0.517200\n",
      "Epoch 31, CIFAR-10 Batch 4:  Loss:     0.8829 Validation Accuracy: 0.522000\n",
      "Epoch 31, CIFAR-10 Batch 5:  Loss:     0.8621 Validation Accuracy: 0.522000\n",
      "Epoch 32, CIFAR-10 Batch 1:  Loss:     0.8923 Validation Accuracy: 0.526600\n",
      "Epoch 32, CIFAR-10 Batch 2:  Loss:     0.9423 Validation Accuracy: 0.536400\n",
      "Epoch 32, CIFAR-10 Batch 3:  Loss:     0.7231 Validation Accuracy: 0.529600\n",
      "Epoch 32, CIFAR-10 Batch 4:  Loss:     0.8710 Validation Accuracy: 0.525200\n",
      "Epoch 32, CIFAR-10 Batch 5:  Loss:     0.8549 Validation Accuracy: 0.529200\n",
      "Epoch 33, CIFAR-10 Batch 1:  Loss:     0.8945 Validation Accuracy: 0.530400\n",
      "Epoch 33, CIFAR-10 Batch 2:  Loss:     0.9395 Validation Accuracy: 0.533600\n",
      "Epoch 33, CIFAR-10 Batch 3:  Loss:     0.7096 Validation Accuracy: 0.528000\n",
      "Epoch 33, CIFAR-10 Batch 4:  Loss:     0.8384 Validation Accuracy: 0.531800\n",
      "Epoch 33, CIFAR-10 Batch 5:  Loss:     0.8532 Validation Accuracy: 0.535200\n",
      "Epoch 34, CIFAR-10 Batch 1:  Loss:     0.8912 Validation Accuracy: 0.530200\n",
      "Epoch 34, CIFAR-10 Batch 2:  Loss:     0.9119 Validation Accuracy: 0.534200\n",
      "Epoch 34, CIFAR-10 Batch 3:  Loss:     0.6830 Validation Accuracy: 0.525600\n",
      "Epoch 34, CIFAR-10 Batch 4:  Loss:     0.8240 Validation Accuracy: 0.530000\n",
      "Epoch 34, CIFAR-10 Batch 5:  Loss:     0.8483 Validation Accuracy: 0.537800\n",
      "Epoch 35, CIFAR-10 Batch 1:  Loss:     0.8782 Validation Accuracy: 0.533200\n",
      "Epoch 35, CIFAR-10 Batch 2:  Loss:     0.9141 Validation Accuracy: 0.537200\n",
      "Epoch 35, CIFAR-10 Batch 3:  Loss:     0.6849 Validation Accuracy: 0.525400\n",
      "Epoch 35, CIFAR-10 Batch 4:  Loss:     0.7976 Validation Accuracy: 0.525800\n",
      "Epoch 35, CIFAR-10 Batch 5:  Loss:     0.8256 Validation Accuracy: 0.539000\n",
      "Epoch 36, CIFAR-10 Batch 1:  Loss:     0.8559 Validation Accuracy: 0.535400\n",
      "Epoch 36, CIFAR-10 Batch 2:  Loss:     0.8661 Validation Accuracy: 0.540400\n",
      "Epoch 36, CIFAR-10 Batch 3:  Loss:     0.6730 Validation Accuracy: 0.529200\n",
      "Epoch 36, CIFAR-10 Batch 4:  Loss:     0.7986 Validation Accuracy: 0.532600\n",
      "Epoch 36, CIFAR-10 Batch 5:  Loss:     0.7754 Validation Accuracy: 0.540800\n",
      "Epoch 37, CIFAR-10 Batch 1:  Loss:     0.8742 Validation Accuracy: 0.531600\n",
      "Epoch 37, CIFAR-10 Batch 2:  Loss:     0.8790 Validation Accuracy: 0.535200\n",
      "Epoch 37, CIFAR-10 Batch 3:  Loss:     0.6459 Validation Accuracy: 0.532000\n",
      "Epoch 37, CIFAR-10 Batch 4:  Loss:     0.7644 Validation Accuracy: 0.537400\n",
      "Epoch 37, CIFAR-10 Batch 5:  Loss:     0.8236 Validation Accuracy: 0.525400\n",
      "Epoch 38, CIFAR-10 Batch 1:  Loss:     0.8861 Validation Accuracy: 0.531000\n",
      "Epoch 38, CIFAR-10 Batch 2:  Loss:     0.8254 Validation Accuracy: 0.531200\n",
      "Epoch 38, CIFAR-10 Batch 3:  Loss:     0.6265 Validation Accuracy: 0.530800\n",
      "Epoch 38, CIFAR-10 Batch 4:  Loss:     0.7822 Validation Accuracy: 0.535400\n",
      "Epoch 38, CIFAR-10 Batch 5:  Loss:     0.7514 Validation Accuracy: 0.538200\n",
      "Epoch 39, CIFAR-10 Batch 1:  Loss:     0.8279 Validation Accuracy: 0.534200\n",
      "Epoch 39, CIFAR-10 Batch 2:  Loss:     0.8098 Validation Accuracy: 0.527000\n",
      "Epoch 39, CIFAR-10 Batch 3:  Loss:     0.6551 Validation Accuracy: 0.532000\n",
      "Epoch 39, CIFAR-10 Batch 4:  Loss:     0.7547 Validation Accuracy: 0.530400\n",
      "Epoch 39, CIFAR-10 Batch 5:  Loss:     0.7484 Validation Accuracy: 0.530600\n",
      "Epoch 40, CIFAR-10 Batch 1:  Loss:     0.8087 Validation Accuracy: 0.526000\n",
      "Epoch 40, CIFAR-10 Batch 2:  Loss:     0.8291 Validation Accuracy: 0.532000\n",
      "Epoch 40, CIFAR-10 Batch 3:  Loss:     0.6119 Validation Accuracy: 0.538400\n",
      "Epoch 40, CIFAR-10 Batch 4:  Loss:     0.7434 Validation Accuracy: 0.531400\n",
      "Epoch 40, CIFAR-10 Batch 5:  Loss:     0.7071 Validation Accuracy: 0.534800\n",
      "Epoch 41, CIFAR-10 Batch 1:  Loss:     0.8340 Validation Accuracy: 0.532600\n",
      "Epoch 41, CIFAR-10 Batch 2:  Loss:     0.7884 Validation Accuracy: 0.533400\n",
      "Epoch 41, CIFAR-10 Batch 3:  Loss:     0.6087 Validation Accuracy: 0.539000\n",
      "Epoch 41, CIFAR-10 Batch 4:  Loss:     0.7241 Validation Accuracy: 0.530800\n",
      "Epoch 41, CIFAR-10 Batch 5:  Loss:     0.7005 Validation Accuracy: 0.531400\n",
      "Epoch 42, CIFAR-10 Batch 1:  Loss:     0.7770 Validation Accuracy: 0.534800\n",
      "Epoch 42, CIFAR-10 Batch 2:  Loss:     0.7556 Validation Accuracy: 0.529600\n",
      "Epoch 42, CIFAR-10 Batch 3:  Loss:     0.5882 Validation Accuracy: 0.542000\n",
      "Epoch 42, CIFAR-10 Batch 4:  Loss:     0.7205 Validation Accuracy: 0.534000\n",
      "Epoch 42, CIFAR-10 Batch 5:  Loss:     0.6773 Validation Accuracy: 0.536000\n",
      "Epoch 43, CIFAR-10 Batch 1:  Loss:     0.7446 Validation Accuracy: 0.536800\n",
      "Epoch 43, CIFAR-10 Batch 2:  Loss:     0.7306 Validation Accuracy: 0.531200\n",
      "Epoch 43, CIFAR-10 Batch 3:  Loss:     0.5864 Validation Accuracy: 0.539800\n",
      "Epoch 43, CIFAR-10 Batch 4:  Loss:     0.6860 Validation Accuracy: 0.528400\n",
      "Epoch 43, CIFAR-10 Batch 5:  Loss:     0.6951 Validation Accuracy: 0.538600\n",
      "Epoch 44, CIFAR-10 Batch 1:  Loss:     0.7485 Validation Accuracy: 0.532800\n",
      "Epoch 44, CIFAR-10 Batch 2:  Loss:     0.7321 Validation Accuracy: 0.531000\n",
      "Epoch 44, CIFAR-10 Batch 3:  Loss:     0.5777 Validation Accuracy: 0.543200\n",
      "Epoch 44, CIFAR-10 Batch 4:  Loss:     0.7020 Validation Accuracy: 0.532200\n",
      "Epoch 44, CIFAR-10 Batch 5:  Loss:     0.6404 Validation Accuracy: 0.532800\n",
      "Epoch 45, CIFAR-10 Batch 1:  Loss:     0.7817 Validation Accuracy: 0.534200\n",
      "Epoch 45, CIFAR-10 Batch 2:  Loss:     0.7258 Validation Accuracy: 0.539400\n",
      "Epoch 45, CIFAR-10 Batch 3:  Loss:     0.5771 Validation Accuracy: 0.543600\n",
      "Epoch 45, CIFAR-10 Batch 4:  Loss:     0.6669 Validation Accuracy: 0.535400\n",
      "Epoch 45, CIFAR-10 Batch 5:  Loss:     0.6331 Validation Accuracy: 0.530600\n",
      "Epoch 46, CIFAR-10 Batch 1:  Loss:     0.7144 Validation Accuracy: 0.537000\n",
      "Epoch 46, CIFAR-10 Batch 2:  Loss:     0.7013 Validation Accuracy: 0.534400\n",
      "Epoch 46, CIFAR-10 Batch 3:  Loss:     0.5591 Validation Accuracy: 0.542800\n",
      "Epoch 46, CIFAR-10 Batch 4:  Loss:     0.6449 Validation Accuracy: 0.529800\n",
      "Epoch 46, CIFAR-10 Batch 5:  Loss:     0.5527 Validation Accuracy: 0.533600\n",
      "Epoch 47, CIFAR-10 Batch 1:  Loss:     0.6978 Validation Accuracy: 0.541800\n",
      "Epoch 47, CIFAR-10 Batch 2:  Loss:     0.6809 Validation Accuracy: 0.531800\n",
      "Epoch 47, CIFAR-10 Batch 3:  Loss:     0.5489 Validation Accuracy: 0.540200\n",
      "Epoch 47, CIFAR-10 Batch 4:  Loss:     0.6658 Validation Accuracy: 0.534400\n",
      "Epoch 47, CIFAR-10 Batch 5:  Loss:     0.5678 Validation Accuracy: 0.530200\n",
      "Epoch 48, CIFAR-10 Batch 1:  Loss:     0.7247 Validation Accuracy: 0.534800\n",
      "Epoch 48, CIFAR-10 Batch 2:  Loss:     0.6769 Validation Accuracy: 0.529200\n",
      "Epoch 48, CIFAR-10 Batch 3:  Loss:     0.5377 Validation Accuracy: 0.542200\n",
      "Epoch 48, CIFAR-10 Batch 4:  Loss:     0.6062 Validation Accuracy: 0.540000\n",
      "Epoch 48, CIFAR-10 Batch 5:  Loss:     0.5541 Validation Accuracy: 0.534000\n",
      "Epoch 49, CIFAR-10 Batch 1:  Loss:     0.7007 Validation Accuracy: 0.543200\n",
      "Epoch 49, CIFAR-10 Batch 2:  Loss:     0.6770 Validation Accuracy: 0.525000\n",
      "Epoch 49, CIFAR-10 Batch 3:  Loss:     0.5650 Validation Accuracy: 0.548000\n",
      "Epoch 49, CIFAR-10 Batch 4:  Loss:     0.6532 Validation Accuracy: 0.544200\n",
      "Epoch 49, CIFAR-10 Batch 5:  Loss:     0.5413 Validation Accuracy: 0.534000\n",
      "Epoch 50, CIFAR-10 Batch 1:  Loss:     0.7077 Validation Accuracy: 0.546800\n",
      "Epoch 50, CIFAR-10 Batch 2:  Loss:     0.6332 Validation Accuracy: 0.535800\n",
      "Epoch 50, CIFAR-10 Batch 3:  Loss:     0.5308 Validation Accuracy: 0.547200\n",
      "Epoch 50, CIFAR-10 Batch 4:  Loss:     0.6006 Validation Accuracy: 0.539000\n",
      "Epoch 50, CIFAR-10 Batch 5:  Loss:     0.5479 Validation Accuracy: 0.528600\n"
     ]
    }
   ],
   "source": [
    "\"\"\"\n",
    "DON'T MODIFY ANYTHING IN THIS CELL\n",
    "\"\"\"\n",
    "save_model_path = './image_classification'\n",
    "\n",
    "print('Training...')\n",
    "with tf.Session() as sess:\n",
    "    # Initializing the variables\n",
    "    sess.run(tf.global_variables_initializer())\n",
    "    \n",
    "    # Training cycle\n",
    "    for epoch in range(epochs):\n",
    "        # Loop over all batches\n",
    "        n_batches = 5\n",
    "        for batch_i in range(1, n_batches + 1):\n",
    "            for batch_features, batch_labels in helper.load_preprocess_training_batch(batch_i, batch_size):\n",
    "                train_neural_network(sess, optimizer, keep_probability, batch_features, batch_labels)\n",
    "            print('Epoch {:>2}, CIFAR-10 Batch {}:  '.format(epoch + 1, batch_i), end='')\n",
    "            print_stats(sess, batch_features, batch_labels, cost, accuracy)\n",
    "            \n",
    "    # Save Model\n",
    "    saver = tf.train.Saver()\n",
    "    save_path = saver.save(sess, save_model_path)"
   ]
  },
  {
   "cell_type": "markdown",
   "metadata": {
    "deletable": true,
    "editable": true
   },
   "source": [
    "# Checkpoint\n",
    "The model has been saved to disk.\n",
    "## Test Model\n",
    "Test your model against the test dataset.  This will be your final accuracy. You should have an accuracy greater than 50%. If you don't, keep tweaking the model architecture and parameters."
   ]
  },
  {
   "cell_type": "code",
   "execution_count": 57,
   "metadata": {
    "collapsed": false,
    "deletable": true,
    "editable": true
   },
   "outputs": [
    {
     "name": "stdout",
     "output_type": "stream",
     "text": [
      "Testing Accuracy: 0.5434137658227848\n",
      "\n"
     ]
    },
    {
     "data": {
      "image/png": "[encoded data removed]",
      "text/plain": [
       "<matplotlib.figure.Figure at 0x2b96c609160>"
      ]
     },
     "metadata": {
      "image/png": {
       "height": 319,
       "width": 355
      }
     },
     "output_type": "display_data"
    }
   ],
   "source": [
    "\"\"\"\n",
    "DON'T MODIFY ANYTHING IN THIS CELL\n",
    "\"\"\"\n",
    "%matplotlib inline\n",
    "%config InlineBackend.figure_format = 'retina'\n",
    "\n",
    "import tensorflow as tf\n",
    "import pickle\n",
    "import helper\n",
    "import random\n",
    "\n",
    "# Set batch size if not already set\n",
    "try:\n",
    "    if batch_size:\n",
    "        pass\n",
    "except NameError:\n",
    "    batch_size = 64\n",
    "\n",
    "save_model_path = './image_classification'\n",
    "n_samples = 4\n",
    "top_n_predictions = 3\n",
    "\n",
    "def test_model():\n",
    "    \"\"\"\n",
    "    Test the saved model against the test dataset\n",
    "    \"\"\"\n",
    "\n",
    "    test_features, test_labels = pickle.load(open('preprocess_training.p', mode='rb'))\n",
    "    loaded_graph = tf.Graph()\n",
    "\n",
    "    with tf.Session(graph=loaded_graph) as sess:\n",
    "        # Load model\n",
    "        loader = tf.train.import_meta_graph(save_model_path + '.meta')\n",
    "        loader.restore(sess, save_model_path)\n",
    "\n",
    "        # Get Tensors from loaded model\n",
    "        loaded_x = loaded_graph.get_tensor_by_name('x:0')\n",
    "        loaded_y = loaded_graph.get_tensor_by_name('y:0')\n",
    "        loaded_keep_prob = loaded_graph.get_tensor_by_name('keep_prob:0')\n",
    "        loaded_logits = loaded_graph.get_tensor_by_name('logits:0')\n",
    "        loaded_acc = loaded_graph.get_tensor_by_name('accuracy:0')\n",
    "        \n",
    "        # Get accuracy in batches for memory limitations\n",
    "        test_batch_acc_total = 0\n",
    "        test_batch_count = 0\n",
    "        \n",
    "        for train_feature_batch, train_label_batch in helper.batch_features_labels(test_features, test_labels, batch_size):\n",
    "            test_batch_acc_total += sess.run(\n",
    "                loaded_acc,\n",
    "                feed_dict={loaded_x: train_feature_batch, loaded_y: train_label_batch, loaded_keep_prob: 1.0})\n",
    "            test_batch_count += 1\n",
    "\n",
    "        print('Testing Accuracy: {}\\n'.format(test_batch_acc_total/test_batch_count))\n",
    "\n",
    "        # Print Random Samples\n",
    "        random_test_features, random_test_labels = tuple(zip(*random.sample(list(zip(test_features, test_labels)), n_samples)))\n",
    "        random_test_predictions = sess.run(\n",
    "            tf.nn.top_k(tf.nn.softmax(loaded_logits), top_n_predictions),\n",
    "            feed_dict={loaded_x: random_test_features, loaded_y: random_test_labels, loaded_keep_prob: 1.0})\n",
    "        helper.display_image_predictions(random_test_features, random_test_labels, random_test_predictions)\n",
    "\n",
    "\n",
    "test_model()"
   ]
  },
  {
   "cell_type": "markdown",
   "metadata": {
    "deletable": true,
    "editable": true
   },
   "source": [
    "## Why 50-70% Accuracy?\n",
    "You might be wondering why you can't get an accuracy any higher. First things first, 50% isn't bad for a simple CNN.  Pure guessing would get you 10% accuracy. However, you might notice people are getting scores [well above 70%](http://rodrigob.github.io/are_we_there_yet/build/classification_datasets_results.html#43494641522d3130).  That's because we haven't taught you all there is to know about neural networks. We still need to cover a few more techniques.\n",
    "## Submitting This Project\n",
    "When submitting this project, make sure to run all the cells before saving the notebook.  Save the notebook file as \"dlnd_image_classification.ipynb\" and save it as a HTML file under \"File\" -> \"Download as\".  Include the \"helper.py\" and \"problem_unittests.py\" files in your submission."
   ]
  }
 ],
 "metadata": {
  "anaconda-cloud": {},
  "kernelspec": {
   "display_name": "Python 3",
   "language": "python",
   "name": "python3"
  },
  "language_info": {
   "codemirror_mode": {
    "name": "ipython",
    "version": 3
   },
   "file_extension": ".py",
   "mimetype": "text/x-python",
   "name": "python",
   "nbconvert_exporter": "python",
   "pygments_lexer": "ipython3",
   "version": "3.5.3"
  }
 },
 "nbformat": 4,
 "nbformat_minor": 0
}
